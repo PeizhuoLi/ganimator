{
 "cells": [
  {
   "attachments": {},
   "cell_type": "markdown",
   "metadata": {},
   "source": [
    "# Creating a Figure for the Result of the Offset Fixing"
   ]
  },
  {
   "cell_type": "code",
   "execution_count": null,
   "metadata": {},
   "outputs": [],
   "source": [
    "import matplotlib.pyplot as plt\n",
    "\n",
    "# Set the figure resolution to 300 dpi\n",
    "plt.rcParams['figure.dpi'] = 300"
   ]
  },
  {
   "cell_type": "code",
   "execution_count": null,
   "metadata": {},
   "outputs": [],
   "source": [
    "# Load the four images\n",
    "feet = plt.imread(\"feet.png\")\n",
    "hand = plt.imread(\"hand.png\")\n",
    "feet_fixed = plt.imread(\"feet_fixed.png\")\n",
    "hand_fixed = plt.imread(\"hand_fixed.png\")\n",
    "\n",
    "# Create a figure with 2 rows and 2 columns\n",
    "fig, axs = plt.subplots(2, 2)\n",
    "\n",
    "# Hide grid and axes for all subplots\n",
    "for ax in axs.flatten():\n",
    "    ax.axis(\"off\")\n",
    "\n",
    "# Plot the images in the figure\n",
    "axs[0, 0].imshow(feet)\n",
    "axs[0, 0].set_title(\"Feet (Before Fixing)\")\n",
    "\n",
    "axs[0, 1].imshow(feet_fixed)\n",
    "axs[0, 1].set_title(\"Feet (After Fixing)\")\n",
    "\n",
    "axs[1, 0].imshow(hand)\n",
    "axs[1, 0].set_title(\"Hand (Before Fixing)\")\n",
    "\n",
    "axs[1, 1].imshow(hand_fixed)\n",
    "axs[1, 1].set_title(\"Hand (After Fixing)\")\n",
    "\n",
    "# Adjust the spacing between subplots\n",
    "plt.tight_layout()\n",
    "\n",
    "# Display the figure\n",
    "plt.show()\n",
    "\n",
    "# Save the figure with transparent background and 300 dpi resolution\n",
    "fig.savefig(\"before_after_offset.png\", transparent=True, dpi=300)"
   ]
  }
 ],
 "metadata": {
  "kernelspec": {
   "display_name": "plot-3.11.2",
   "language": "python",
   "name": "python3"
  },
  "language_info": {
   "codemirror_mode": {
    "name": "ipython",
    "version": 3
   },
   "file_extension": ".py",
   "mimetype": "text/x-python",
   "name": "python",
   "nbconvert_exporter": "python",
   "pygments_lexer": "ipython3",
   "version": "3.11.2"
  },
  "orig_nbformat": 4
 },
 "nbformat": 4,
 "nbformat_minor": 2
}
